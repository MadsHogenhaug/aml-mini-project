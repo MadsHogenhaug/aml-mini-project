{
 "cells": [
  {
   "cell_type": "code",
   "execution_count": 1,
   "metadata": {},
   "outputs": [],
   "source": [
    "import torch\n",
    "import torch.nn as nn\n",
    "from torchvision import datasets, transforms\n",
    "import numpy as np\n",
    "import matplotlib.pyplot as plt\n",
    "from sklearn.model_selection import train_test_split"
   ]
  },
  {
   "cell_type": "code",
   "execution_count": 2,
   "metadata": {},
   "outputs": [],
   "source": [
    "transform = transforms.Compose([transforms.ToTensor(),\n",
    "                              transforms.Normalize((0.5,), (0.5,)),\n",
    "                              ])"
   ]
  },
  {
   "cell_type": "code",
   "execution_count": 3,
   "metadata": {},
   "outputs": [
    {
     "name": "stderr",
     "output_type": "stream",
     "text": [
      "A subdirectory or file data already exists.\n"
     ]
    }
   ],
   "source": [
    "!mkdir data\n",
    "trainset = datasets.MNIST('data', download=True, train=True, transform=transform)\n",
    "valset = datasets.MNIST('data', download=True, train=False, transform=transform)\n",
    "trainloader = torch.utils.data.DataLoader(trainset, batch_size=64, shuffle=True)\n",
    "valloader = torch.utils.data.DataLoader(valset, batch_size=64, shuffle=True)"
   ]
  },
  {
   "attachments": {},
   "cell_type": "markdown",
   "metadata": {},
   "source": [
    "# CNN classifier"
   ]
  },
  {
   "cell_type": "code",
   "execution_count": 19,
   "metadata": {},
   "outputs": [],
   "source": [
    "def score(y_pred, y_true):\n",
    "    winners = y_pred.argmax(dim=1)\n",
    "    return (winners == y_true).sum() / winners.size(0)"
   ]
  },
  {
   "cell_type": "code",
   "execution_count": 17,
   "metadata": {},
   "outputs": [],
   "source": [
    "class ConvModel(nn.Module):\n",
    "    def __init__(self):\n",
    "        super().__init__()\n",
    "        \n",
    "        self.sequence = nn.Sequential(\n",
    "            nn.Conv2d(in_channels=1, out_channels=10, kernel_size=3),\n",
    "            nn.MaxPool2d(kernel_size=3),\n",
    "            nn.Conv2d(in_channels=10, out_channels=30, kernel_size=3),\n",
    "            nn.MaxPool2d(kernel_size=3),\n",
    "            nn.Flatten(),\n",
    "            nn.Linear(120, 10),\n",
    "            nn.Softmax()\n",
    "        )\n",
    "        \n",
    "    def forward(self, x):\n",
    "        return self.sequence(x)"
   ]
  },
  {
   "cell_type": "code",
   "execution_count": 20,
   "metadata": {},
   "outputs": [
    {
     "name": "stdout",
     "output_type": "stream",
     "text": [
      "EPOCH\t 1\n"
     ]
    },
    {
     "name": "stderr",
     "output_type": "stream",
     "text": [
      "c:\\Users\\marcu\\anaconda3\\lib\\site-packages\\torch\\nn\\modules\\container.py:141: UserWarning: Implicit dimension choice for softmax has been deprecated. Change the call to include dim=X as an argument.\n",
      "  input = module(input)\n"
     ]
    },
    {
     "name": "stdout",
     "output_type": "stream",
     "text": [
      "Train Loss:\t 1.677772911118546\n",
      "Train Accuracy\t 0.7986074\n",
      "Val Loss:\t 1.5978950102617786\n",
      "Val Accuracy\t 0.8674363\n",
      "---------------------------\n",
      "EPOCH\t 2\n",
      "Train Loss:\t 1.5904416185198054\n",
      "Train Accuracy\t 0.8731177\n",
      "Val Loss:\t 1.584729552268982\n",
      "Val Accuracy\t 0.87778664\n",
      "---------------------------\n",
      "EPOCH\t 3\n",
      "Train Loss:\t 1.51849830176022\n",
      "Train Accuracy\t 0.9461287\n",
      "Val Loss:\t 1.4891165783450862\n",
      "Val Accuracy\t 0.97442275\n",
      "---------------------------\n",
      "EPOCH\t 4\n",
      "Train Loss:\t 1.4891374221742788\n",
      "Train Accuracy\t 0.97473013\n",
      "Val Loss:\t 1.4863386708460036\n",
      "Val Accuracy\t 0.97611463\n",
      "---------------------------\n",
      "EPOCH\t 5\n",
      "Train Loss:\t 1.4849409433061889\n",
      "Train Accuracy\t 0.97831154\n",
      "Val Loss:\t 1.4818294936684286\n",
      "Val Accuracy\t 0.98158836\n",
      "---------------------------\n",
      "EPOCH\t 6\n",
      "Train Loss:\t 1.4826008908784212\n",
      "Train Accuracy\t 0.98064363\n",
      "Val Loss:\t 1.4797409453969093\n",
      "Val Accuracy\t 0.9830812\n",
      "---------------------------\n",
      "EPOCH\t 7\n",
      "Train Loss:\t 1.4802295124607046\n",
      "Train Accuracy\t 0.98227614\n",
      "Val Loss:\t 1.4796355590698824\n",
      "Val Accuracy\t 0.98178744\n",
      "---------------------------\n",
      "EPOCH\t 8\n",
      "Train Loss:\t 1.4789095597226483\n",
      "Train Accuracy\t 0.98350877\n",
      "Val Loss:\t 1.4777566855120812\n",
      "Val Accuracy\t 0.98447454\n",
      "---------------------------\n",
      "EPOCH\t 9\n",
      "Train Loss:\t 1.477385427143528\n",
      "Train Accuracy\t 0.98479146\n",
      "Val Loss:\t 1.4774995905578516\n",
      "Val Accuracy\t 0.984574\n",
      "---------------------------\n",
      "EPOCH\t 10\n",
      "Train Loss:\t 1.4765683169812283\n",
      "Train Accuracy\t 0.9855577\n",
      "Val Loss:\t 1.4767667677751772\n",
      "Val Accuracy\t 0.9847731\n",
      "---------------------------\n"
     ]
    },
    {
     "data": {
      "image/png": "[encoded data removed]",
      "text/plain": [
       "<Figure size 432x288 with 1 Axes>"
      ]
     },
     "metadata": {
      "needs_background": "light"
     },
     "output_type": "display_data"
    }
   ],
   "source": [
    "model = ConvModel()\n",
    "\n",
    "n_epochs = 10\n",
    "learning_rate = 1e-3\n",
    "loss_fn = torch.nn.CrossEntropyLoss()\n",
    "\n",
    "optimizer = torch.optim.Adam(model.parameters(), lr=learning_rate)\n",
    "\n",
    "train_losses = []\n",
    "val_losses = []\n",
    "train_acc = []\n",
    "val_acc = []\n",
    "for epoch in range(1, n_epochs + 1):\n",
    "    print('EPOCH\\t', epoch)\n",
    "    batch_train_losses = []\n",
    "    batch_val_losses = []\n",
    "    batch_train_acc = []\n",
    "    batch_val_acc = []\n",
    "    \n",
    "    for x_batch, y_batch in trainloader:\n",
    "        y_onehot = nn.functional.one_hot(y_batch, num_classes=10).float()\n",
    "        \n",
    "        y_pred = model(x_batch)\n",
    "        loss = loss_fn(y_pred, y_onehot)\n",
    "        optimizer.zero_grad()\n",
    "        loss.backward()\n",
    "        optimizer.step()\n",
    "        \n",
    "        batch_train_losses.append(loss.item())\n",
    "        batch_train_acc.append(score(y_pred, y_batch))\n",
    "        \n",
    "    train_losses.append(np.mean(batch_train_losses))\n",
    "    train_acc.append(np.mean(batch_train_acc))\n",
    "    \n",
    "    print('Train Loss:\\t', train_losses[-1])\n",
    "    print('Train Accuracy\\t', train_acc[-1])\n",
    "        \n",
    "    with torch.no_grad():\n",
    "        for x_batch, y_batch in valloader:\n",
    "            y_onehot = nn.functional.one_hot(y_batch, num_classes=10).float()\n",
    "        \n",
    "            y_pred = model(x_batch)\n",
    "            loss = loss_fn(y_pred, y_onehot)\n",
    "            \n",
    "            batch_val_losses.append(loss.item())\n",
    "            batch_val_acc.append(score(y_pred, y_batch))\n",
    "        \n",
    "        val_losses.append(np.mean(batch_val_losses))\n",
    "        val_acc.append(np.mean(batch_val_acc))\n",
    "        \n",
    "    print('Val Loss:\\t', val_losses[-1])\n",
    "    print('Val Accuracy\\t', val_acc[-1])\n",
    "    print('---------------------------')\n",
    "\n",
    "fig, ax = plt.subplots()\n",
    "ax.plot(np.arange(epoch), train_losses)\n",
    "ax.plot(np.arange(epoch), val_losses)\n",
    "plt.show()"
   ]
  },
  {
   "cell_type": "code",
   "execution_count": 23,
   "metadata": {},
   "outputs": [
    {
     "data": {
      "image/png": "[encoded data removed]",
      "text/plain": [
       "<Figure size 432x288 with 1 Axes>"
      ]
     },
     "metadata": {
      "needs_background": "light"
     },
     "output_type": "display_data"
    }
   ],
   "source": [
    "fig, ax = plt.subplots()\n",
    "ax.plot(np.arange(epoch), train_acc)\n",
    "ax.plot(np.arange(epoch), val_acc)\n",
    "plt.show()"
   ]
  }
 ],
 "metadata": {
  "kernelspec": {
   "display_name": "base",
   "language": "python",
   "name": "python3"
  },
  "language_info": {
   "codemirror_mode": {
    "name": "ipython",
    "version": 3
   },
   "file_extension": ".py",
   "mimetype": "text/x-python",
   "name": "python",
   "nbconvert_exporter": "python",
   "pygments_lexer": "ipython3",
   "version": "3.8.5"
  },
  "orig_nbformat": 4
 },
 "nbformat": 4,
 "nbformat_minor": 2
}
