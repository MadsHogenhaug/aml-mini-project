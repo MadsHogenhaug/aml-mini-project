{
 "cells": [
  {
   "cell_type": "code",
   "execution_count": 49,
   "metadata": {},
   "outputs": [],
   "source": [
    "import torch\n",
    "import torch.nn as nn\n",
    "from torchvision import datasets, transforms\n",
    "import numpy as np\n",
    "import matplotlib.pyplot as plt"
   ]
  },
  {
   "cell_type": "code",
   "execution_count": 38,
   "metadata": {},
   "outputs": [],
   "source": [
    "transform = transforms.Compose([transforms.ToTensor(),\n",
    "                              transforms.Normalize((0.5,), (0.5,)),\n",
    "                              ])"
   ]
  },
  {
   "cell_type": "code",
   "execution_count": 39,
   "metadata": {},
   "outputs": [
    {
     "name": "stderr",
     "output_type": "stream",
     "text": [
      "A subdirectory or file data already exists.\n"
     ]
    }
   ],
   "source": [
    "!mkdir data\n",
    "trainset = datasets.MNIST('data', download=True, train=True, transform=transform)\n",
    "valset = datasets.MNIST('data', download=True, train=False, transform=transform)\n",
    "trainloader = torch.utils.data.DataLoader(trainset, batch_size=64, shuffle=True)\n",
    "valloader = torch.utils.data.DataLoader(valset, batch_size=64, shuffle=True)"
   ]
  },
  {
   "cell_type": "code",
   "execution_count": 40,
   "metadata": {},
   "outputs": [],
   "source": [
    "class Standard(nn.Module):\n",
    "    def __init__(self, in_dim, h1_dim, h2_dim, out_dim) -> None:\n",
    "        super().__init__()\n",
    "        self.flatten = nn.Flatten()\n",
    "        self.relu = nn.ReLU()\n",
    "        self.softmax = nn.Softmax()\n",
    "        \n",
    "        self.l1 = nn.Linear(in_dim, h1_dim)\n",
    "        self.l2 = nn.Linear(h1_dim, h2_dim)\n",
    "        self.l3 = nn.Linear(h2_dim, out_dim)\n",
    "        \n",
    "    def forward(self, x):\n",
    "        x = self.flatten(x)\n",
    "        x = self.l1(x)\n",
    "        x = self.relu(x)\n",
    "        x = self.l2(x)\n",
    "        x = self.relu(x)\n",
    "        x = self.l3(x)\n",
    "        x = self.softmax(x)\n",
    "        \n",
    "        return x\n",
    "    \n",
    "    \n",
    "in_dim = 28*28\n",
    "h1_dim = 100\n",
    "h2_dim = 100\n",
    "out_dim = len(trainset.classes)\n",
    "model = Standard(in_dim, h1_dim, h2_dim, out_dim)"
   ]
  },
  {
   "cell_type": "code",
   "execution_count": 58,
   "metadata": {},
   "outputs": [],
   "source": [
    "def score(y_pred, y_true):\n",
    "    winners = y_pred.argmax(dim=1)\n",
    "    return (winners == y_true).sum() / winners.size(0)"
   ]
  },
  {
   "cell_type": "code",
   "execution_count": 64,
   "metadata": {},
   "outputs": [
    {
     "name": "stdout",
     "output_type": "stream",
     "text": [
      "EPOCH\t 1\n"
     ]
    },
    {
     "name": "stderr",
     "output_type": "stream",
     "text": [
      "<ipython-input-40-231b969a3cc4>:19: UserWarning: Implicit dimension choice for softmax has been deprecated. Change the call to include dim=X as an argument.\n",
      "  x = self.softmax(x)\n"
     ]
    },
    {
     "name": "stdout",
     "output_type": "stream",
     "text": [
      "Train Loss:\t 1.626151863827126\n",
      "Train Accuracy\t 0.84949696\n",
      "Val Loss:\t 1.548036527481808\n",
      "Val Accuracy\t 0.9165008\n",
      "---------------------------\n",
      "EPOCH\t 2\n",
      "Train Loss:\t 1.5469965694555596\n",
      "Train Accuracy\t 0.9180104\n",
      "Val Loss:\t 1.5383984829969466\n",
      "Val Accuracy\t 0.9247612\n",
      "---------------------------\n",
      "EPOCH\t 3\n",
      "Train Loss:\t 1.531025780924856\n",
      "Train Accuracy\t 0.9322028\n",
      "Val Loss:\t 1.5264451632833784\n",
      "Val Accuracy\t 0.9362062\n",
      "---------------------------\n",
      "EPOCH\t 4\n",
      "Train Loss:\t 1.520643393876456\n",
      "Train Accuracy\t 0.9423807\n",
      "Val Loss:\t 1.517108210332834\n",
      "Val Accuracy\t 0.9440685\n",
      "---------------------------\n",
      "EPOCH\t 5\n",
      "Train Loss:\t 1.5144575815210972\n",
      "Train Accuracy\t 0.94759464\n",
      "Val Loss:\t 1.5131859718614322\n",
      "Val Accuracy\t 0.94785035\n",
      "---------------------------\n",
      "EPOCH\t 6\n",
      "Train Loss:\t 1.509570656173519\n",
      "Train Accuracy\t 0.9526919\n",
      "Val Loss:\t 1.5080976493799003\n",
      "Val Accuracy\t 0.95322454\n",
      "---------------------------\n",
      "EPOCH\t 7\n",
      "Train Loss:\t 1.5057401197043054\n",
      "Train Accuracy\t 0.9560901\n",
      "Val Loss:\t 1.502642696070823\n",
      "Val Accuracy\t 0.9580016\n",
      "---------------------------\n",
      "EPOCH\t 8\n",
      "Train Loss:\t 1.5030627420970373\n",
      "Train Accuracy\t 0.95850545\n",
      "Val Loss:\t 1.5097106383864287\n",
      "Val Accuracy\t 0.95203024\n",
      "---------------------------\n",
      "EPOCH\t 9\n",
      "Train Loss:\t 1.501233852494246\n",
      "Train Accuracy\t 0.96052104\n",
      "Val Loss:\t 1.5016379591765676\n",
      "Val Accuracy\t 0.9601911\n",
      "---------------------------\n",
      "EPOCH\t 10\n",
      "Train Loss:\t 1.4980375823944108\n",
      "Train Accuracy\t 0.9635694\n",
      "Val Loss:\t 1.4985432442586133\n",
      "Val Accuracy\t 0.96307725\n",
      "---------------------------\n"
     ]
    },
    {
     "data": {
      "image/png": "[encoded data removed]",
      "text/plain": [
       "<Figure size 432x288 with 1 Axes>"
      ]
     },
     "metadata": {
      "needs_background": "light"
     },
     "output_type": "display_data"
    }
   ],
   "source": [
    "in_dim = 28*28\n",
    "h1_dim = 100\n",
    "h2_dim = 100\n",
    "out_dim = len(trainset.classes)\n",
    "model = Standard(in_dim, h1_dim, h2_dim, out_dim)\n",
    "\n",
    "\n",
    "n_epochs = 10\n",
    "learning_rate = 1e-3\n",
    "loss_fn = torch.nn.CrossEntropyLoss()\n",
    "\n",
    "optimizer = torch.optim.Adam(model.parameters(), lr=learning_rate)\n",
    "\n",
    "train_losses = []\n",
    "val_losses = []\n",
    "train_acc = []\n",
    "val_acc = []\n",
    "for epoch in range(1, n_epochs + 1):\n",
    "    print('EPOCH\\t', epoch)\n",
    "    batch_train_losses = []\n",
    "    batch_val_losses = []\n",
    "    batch_train_acc = []\n",
    "    batch_val_acc = []\n",
    "    \n",
    "    for x_batch, y_batch in trainloader:\n",
    "        y_onehot = nn.functional.one_hot(y_batch, num_classes=10).float()\n",
    "        \n",
    "        y_pred = model(x_batch)\n",
    "        loss = loss_fn(y_pred, y_onehot)\n",
    "        optimizer.zero_grad()\n",
    "        loss.backward()\n",
    "        optimizer.step()\n",
    "        \n",
    "        batch_train_losses.append(loss.item())\n",
    "        batch_train_acc.append(score(y_pred, y_batch))\n",
    "        \n",
    "    train_losses.append(np.mean(batch_train_losses))\n",
    "    train_acc.append(np.mean(batch_train_acc))\n",
    "    \n",
    "    print('Train Loss:\\t', train_losses[-1])\n",
    "    print('Train Accuracy\\t', train_acc[-1])\n",
    "        \n",
    "    with torch.no_grad():\n",
    "        for x_batch, y_batch in valloader:\n",
    "            y_onehot = nn.functional.one_hot(y_batch, num_classes=10).float()\n",
    "        \n",
    "            y_pred = model(x_batch)\n",
    "            loss = loss_fn(y_pred, y_onehot)\n",
    "            \n",
    "            batch_val_losses.append(loss.item())\n",
    "            batch_val_acc.append(score(y_pred, y_batch))\n",
    "        \n",
    "        val_losses.append(np.mean(batch_val_losses))\n",
    "        val_acc.append(np.mean(batch_val_acc))\n",
    "        \n",
    "    print('Val Loss:\\t', val_losses[-1])\n",
    "    print('Val Accuracy\\t', val_acc[-1])\n",
    "    print('---------------------------')\n",
    "\n",
    "fig, ax = plt.subplots()\n",
    "ax.plot(np.arange(epoch), train_losses)\n",
    "ax.plot(np.arange(epoch), val_losses)\n",
    "plt.show()"
   ]
  },
  {
   "cell_type": "code",
   "execution_count": 65,
   "metadata": {},
   "outputs": [
    {
     "data": {
      "image/png": "[encoded data removed]",
      "text/plain": [
       "<Figure size 432x288 with 1 Axes>"
      ]
     },
     "metadata": {
      "needs_background": "light"
     },
     "output_type": "display_data"
    }
   ],
   "source": [
    "fig, ax = plt.subplots()\n",
    "ax.plot(np.arange(epoch), train_acc)\n",
    "ax.plot(np.arange(epoch), val_acc)\n",
    "plt.show()"
   ]
  },
  {
   "cell_type": "code",
   "execution_count": 61,
   "metadata": {},
   "outputs": [
    {
     "data": {
      "text/plain": [
       "tensor([3, 4, 0, 6, 4, 4, 7, 5, 9, 2, 5, 9, 8, 1, 1, 4])"
      ]
     },
     "execution_count": 61,
     "metadata": {},
     "output_type": "execute_result"
    }
   ],
   "source": [
    "y_batch"
   ]
  },
  {
   "cell_type": "code",
   "execution_count": 63,
   "metadata": {},
   "outputs": [
    {
     "name": "stderr",
     "output_type": "stream",
     "text": [
      "<ipython-input-40-231b969a3cc4>:19: UserWarning: Implicit dimension choice for softmax has been deprecated. Change the call to include dim=X as an argument.\n",
      "  x = self.softmax(x)\n"
     ]
    },
    {
     "data": {
      "text/plain": [
       "tensor([3, 4, 0, 6, 4, 4, 7, 5, 9, 2, 5, 9, 8, 1, 1, 4])"
      ]
     },
     "execution_count": 63,
     "metadata": {},
     "output_type": "execute_result"
    }
   ],
   "source": [
    "model(x_batch).argmax(dim=1)"
   ]
  }
 ],
 "metadata": {
  "kernelspec": {
   "display_name": "base",
   "language": "python",
   "name": "python3"
  },
  "language_info": {
   "codemirror_mode": {
    "name": "ipython",
    "version": 3
   },
   "file_extension": ".py",
   "mimetype": "text/x-python",
   "name": "python",
   "nbconvert_exporter": "python",
   "pygments_lexer": "ipython3",
   "version": "3.8.5"
  },
  "orig_nbformat": 4
 },
 "nbformat": 4,
 "nbformat_minor": 2
}
